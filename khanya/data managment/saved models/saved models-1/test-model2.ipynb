{
 "cells": [
  {
   "cell_type": "code",
   "execution_count": 1,
   "metadata": {},
   "outputs": [],
   "source": [
    "import pandas as pd\n",
    "import numpy as np\n",
    "import matplotlib.pyplot as plt\n",
    "import seaborn as sns\n",
    "from sklearn.model_selection import train_test_split\n",
    "from sklearn.preprocessing import StandardScaler, LabelEncoder\n",
    "from sklearn.metrics import classification_report, confusion_matrix\n",
    "import joblib"
   ]
  },
  {
   "cell_type": "code",
   "execution_count": 2,
   "metadata": {},
   "outputs": [],
   "source": [
    "import tensorflow as tf\n",
    "from tensorflow.keras.models import Sequential\n",
    "from tensorflow.keras.layers import Dense, Dropout\n",
    "from tensorflow.keras.optimizers import Adam\n",
    "from tensorflow.keras.utils import to_categorical"
   ]
  },
  {
   "cell_type": "code",
   "execution_count": 3,
   "metadata": {},
   "outputs": [],
   "source": [
    "# Load the data\n",
    "df = pd.read_csv('acs-f2-dataset 1.csv')\n"
   ]
  },
  {
   "cell_type": "code",
   "execution_count": 4,
   "metadata": {},
   "outputs": [],
   "source": [
    "# # Convert 'time' to datetime\n",
    "# df['time'] = pd.to_datetime(df['time'])"
   ]
  },
  {
   "cell_type": "code",
   "execution_count": 5,
   "metadata": {},
   "outputs": [],
   "source": [
    "# Convert categorical labels to numeric\n",
    "le = LabelEncoder()\n",
    "df['equipment'] = le.fit_transform(df['equipment'])"
   ]
  },
  {
   "cell_type": "code",
   "execution_count": 6,
   "metadata": {},
   "outputs": [],
   "source": [
    "# Split features and labels\n",
    "X = df.drop('equipment', axis=1)\n",
    "y = df['equipment']"
   ]
  },
  {
   "cell_type": "code",
   "execution_count": 7,
   "metadata": {},
   "outputs": [],
   "source": [
    "# Normalize the features\n",
    "scaler = StandardScaler()\n",
    "X_scaled = scaler.fit_transform(X.drop(columns=['time']))\n"
   ]
  },
  {
   "cell_type": "code",
   "execution_count": 8,
   "metadata": {},
   "outputs": [],
   "source": [
    "# Convert labels to one-hot encoding\n",
    "y_encoded = to_categorical(y)"
   ]
  },
  {
   "cell_type": "code",
   "execution_count": 9,
   "metadata": {},
   "outputs": [],
   "source": [
    "# Split the data into training and testing sets\n",
    "X_train, X_test, y_train, y_test = train_test_split(X_scaled, y_encoded, test_size=0.2, random_state=42)"
   ]
  },
  {
   "cell_type": "code",
   "execution_count": 10,
   "metadata": {},
   "outputs": [
    {
     "name": "stderr",
     "output_type": "stream",
     "text": [
      "c:\\Users\\honey\\AppData\\Local\\Programs\\Python\\Python312\\Lib\\site-packages\\keras\\src\\layers\\core\\dense.py:87: UserWarning: Do not pass an `input_shape`/`input_dim` argument to a layer. When using Sequential models, prefer using an `Input(shape)` object as the first layer in the model instead.\n",
      "  super().__init__(activity_regularizer=activity_regularizer, **kwargs)\n"
     ]
    }
   ],
   "source": [
    "from tensorflow.keras.callbacks import EarlyStopping\n",
    "\n",
    "# Define the model (now with more neurons to account for additional features)\n",
    "# Define the model (now with more neurons to account for additional features)\n",
    "model = Sequential([\n",
    "    Dense(128, activation='relu', input_shape=(X_train.shape[1],)),\n",
    "    Dropout(0.3),\n",
    "    Dense(128, activation='relu'),\n",
    "    Dropout(0.3),\n",
    "    Dense(128, activation='relu'),\n",
    "    Dense(y_encoded.shape[1], activation='softmax')\n",
    "])\n",
    "\n",
    "# Add early stopping callback\n",
    "early_stopping = EarlyStopping(monitor='val_loss', patience=10, restore_best_weights=True)"
   ]
  },
  {
   "cell_type": "code",
   "execution_count": 11,
   "metadata": {},
   "outputs": [
    {
     "name": "stdout",
     "output_type": "stream",
     "text": [
      "Epoch 1/500\n",
      "\u001b[1m2014/2014\u001b[0m \u001b[32m━━━━━━━━━━━━━━━━━━━━\u001b[0m\u001b[37m\u001b[0m \u001b[1m4s\u001b[0m 2ms/step - accuracy: 0.3130 - loss: 2.0196 - val_accuracy: 0.4674 - val_loss: 1.4751\n",
      "Epoch 2/500\n",
      "\u001b[1m2014/2014\u001b[0m \u001b[32m━━━━━━━━━━━━━━━━━━━━\u001b[0m\u001b[37m\u001b[0m \u001b[1m3s\u001b[0m 2ms/step - accuracy: 0.4601 - loss: 1.5206 - val_accuracy: 0.5558 - val_loss: 1.2540\n",
      "Epoch 3/500\n",
      "\u001b[1m2014/2014\u001b[0m \u001b[32m━━━━━━━━━━━━━━━━━━━━\u001b[0m\u001b[37m\u001b[0m \u001b[1m3s\u001b[0m 2ms/step - accuracy: 0.5127 - loss: 1.3623 - val_accuracy: 0.6015 - val_loss: 1.1417\n",
      "Epoch 4/500\n",
      "\u001b[1m2014/2014\u001b[0m \u001b[32m━━━━━━━━━━━━━━━━━━━━\u001b[0m\u001b[37m\u001b[0m \u001b[1m3s\u001b[0m 2ms/step - accuracy: 0.5508 - loss: 1.2552 - val_accuracy: 0.6208 - val_loss: 1.0621\n",
      "Epoch 5/500\n",
      "\u001b[1m2014/2014\u001b[0m \u001b[32m━━━━━━━━━━━━━━━━━━━━\u001b[0m\u001b[37m\u001b[0m \u001b[1m3s\u001b[0m 2ms/step - accuracy: 0.5719 - loss: 1.1877 - val_accuracy: 0.6424 - val_loss: 1.0032\n",
      "Epoch 6/500\n",
      "\u001b[1m2014/2014\u001b[0m \u001b[32m━━━━━━━━━━━━━━━━━━━━\u001b[0m\u001b[37m\u001b[0m \u001b[1m3s\u001b[0m 2ms/step - accuracy: 0.5946 - loss: 1.1293 - val_accuracy: 0.6526 - val_loss: 0.9641\n",
      "Epoch 7/500\n",
      "\u001b[1m2014/2014\u001b[0m \u001b[32m━━━━━━━━━━━━━━━━━━━━\u001b[0m\u001b[37m\u001b[0m \u001b[1m3s\u001b[0m 2ms/step - accuracy: 0.6049 - loss: 1.0998 - val_accuracy: 0.6662 - val_loss: 0.9270\n",
      "Epoch 8/500\n",
      "\u001b[1m2014/2014\u001b[0m \u001b[32m━━━━━━━━━━━━━━━━━━━━\u001b[0m\u001b[37m\u001b[0m \u001b[1m3s\u001b[0m 2ms/step - accuracy: 0.6148 - loss: 1.0648 - val_accuracy: 0.6793 - val_loss: 0.9032\n",
      "Epoch 9/500\n",
      "\u001b[1m2014/2014\u001b[0m \u001b[32m━━━━━━━━━━━━━━━━━━━━\u001b[0m\u001b[37m\u001b[0m \u001b[1m3s\u001b[0m 2ms/step - accuracy: 0.6266 - loss: 1.0360 - val_accuracy: 0.6918 - val_loss: 0.8774\n",
      "Epoch 10/500\n",
      "\u001b[1m2014/2014\u001b[0m \u001b[32m━━━━━━━━━━━━━━━━━━━━\u001b[0m\u001b[37m\u001b[0m \u001b[1m3s\u001b[0m 2ms/step - accuracy: 0.6295 - loss: 1.0286 - val_accuracy: 0.6943 - val_loss: 0.8636\n",
      "Epoch 11/500\n",
      "\u001b[1m2014/2014\u001b[0m \u001b[32m━━━━━━━━━━━━━━━━━━━━\u001b[0m\u001b[37m\u001b[0m \u001b[1m3s\u001b[0m 2ms/step - accuracy: 0.6394 - loss: 1.0037 - val_accuracy: 0.6917 - val_loss: 0.8522\n",
      "Epoch 12/500\n",
      "\u001b[1m2014/2014\u001b[0m \u001b[32m━━━━━━━━━━━━━━━━━━━━\u001b[0m\u001b[37m\u001b[0m \u001b[1m3s\u001b[0m 2ms/step - accuracy: 0.6442 - loss: 0.9907 - val_accuracy: 0.7025 - val_loss: 0.8358\n",
      "Epoch 13/500\n",
      "\u001b[1m2014/2014\u001b[0m \u001b[32m━━━━━━━━━━━━━━━━━━━━\u001b[0m\u001b[37m\u001b[0m \u001b[1m3s\u001b[0m 2ms/step - accuracy: 0.6471 - loss: 0.9742 - val_accuracy: 0.7080 - val_loss: 0.8230\n",
      "Epoch 14/500\n",
      "\u001b[1m2014/2014\u001b[0m \u001b[32m━━━━━━━━━━━━━━━━━━━━\u001b[0m\u001b[37m\u001b[0m \u001b[1m3s\u001b[0m 2ms/step - accuracy: 0.6513 - loss: 0.9688 - val_accuracy: 0.7098 - val_loss: 0.8121\n",
      "Epoch 15/500\n",
      "\u001b[1m2014/2014\u001b[0m \u001b[32m━━━━━━━━━━━━━━━━━━━━\u001b[0m\u001b[37m\u001b[0m \u001b[1m3s\u001b[0m 2ms/step - accuracy: 0.6547 - loss: 0.9577 - val_accuracy: 0.7113 - val_loss: 0.8116\n",
      "Epoch 16/500\n",
      "\u001b[1m2014/2014\u001b[0m \u001b[32m━━━━━━━━━━━━━━━━━━━━\u001b[0m\u001b[37m\u001b[0m \u001b[1m3s\u001b[0m 2ms/step - accuracy: 0.6576 - loss: 0.9418 - val_accuracy: 0.7181 - val_loss: 0.7968\n",
      "Epoch 17/500\n",
      "\u001b[1m2014/2014\u001b[0m \u001b[32m━━━━━━━━━━━━━━━━━━━━\u001b[0m\u001b[37m\u001b[0m \u001b[1m3s\u001b[0m 2ms/step - accuracy: 0.6636 - loss: 0.9326 - val_accuracy: 0.7141 - val_loss: 0.7882\n",
      "Epoch 18/500\n",
      "\u001b[1m2014/2014\u001b[0m \u001b[32m━━━━━━━━━━━━━━━━━━━━\u001b[0m\u001b[37m\u001b[0m \u001b[1m3s\u001b[0m 2ms/step - accuracy: 0.6637 - loss: 0.9270 - val_accuracy: 0.7207 - val_loss: 0.7907\n",
      "Epoch 19/500\n",
      "\u001b[1m2014/2014\u001b[0m \u001b[32m━━━━━━━━━━━━━━━━━━━━\u001b[0m\u001b[37m\u001b[0m \u001b[1m3s\u001b[0m 2ms/step - accuracy: 0.6692 - loss: 0.9207 - val_accuracy: 0.7171 - val_loss: 0.7826\n",
      "Epoch 20/500\n",
      "\u001b[1m2014/2014\u001b[0m \u001b[32m━━━━━━━━━━━━━━━━━━━━\u001b[0m\u001b[37m\u001b[0m \u001b[1m3s\u001b[0m 2ms/step - accuracy: 0.6797 - loss: 0.8967 - val_accuracy: 0.7246 - val_loss: 0.7679\n",
      "Epoch 21/500\n",
      "\u001b[1m2014/2014\u001b[0m \u001b[32m━━━━━━━━━━━━━━━━━━━━\u001b[0m\u001b[37m\u001b[0m \u001b[1m3s\u001b[0m 2ms/step - accuracy: 0.6756 - loss: 0.8998 - val_accuracy: 0.7241 - val_loss: 0.7615\n",
      "Epoch 22/500\n",
      "\u001b[1m2014/2014\u001b[0m \u001b[32m━━━━━━━━━━━━━━━━━━━━\u001b[0m\u001b[37m\u001b[0m \u001b[1m3s\u001b[0m 2ms/step - accuracy: 0.6780 - loss: 0.9015 - val_accuracy: 0.7335 - val_loss: 0.7482\n",
      "Epoch 23/500\n",
      "\u001b[1m2014/2014\u001b[0m \u001b[32m━━━━━━━━━━━━━━━━━━━━\u001b[0m\u001b[37m\u001b[0m \u001b[1m3s\u001b[0m 2ms/step - accuracy: 0.6796 - loss: 0.8847 - val_accuracy: 0.7295 - val_loss: 0.7521\n",
      "Epoch 24/500\n",
      "\u001b[1m2014/2014\u001b[0m \u001b[32m━━━━━━━━━━━━━━━━━━━━\u001b[0m\u001b[37m\u001b[0m \u001b[1m3s\u001b[0m 2ms/step - accuracy: 0.6843 - loss: 0.8818 - val_accuracy: 0.7300 - val_loss: 0.7471\n",
      "Epoch 25/500\n",
      "\u001b[1m2014/2014\u001b[0m \u001b[32m━━━━━━━━━━━━━━━━━━━━\u001b[0m\u001b[37m\u001b[0m \u001b[1m3s\u001b[0m 2ms/step - accuracy: 0.6865 - loss: 0.8778 - val_accuracy: 0.7358 - val_loss: 0.7347\n",
      "Epoch 26/500\n",
      "\u001b[1m 169/2014\u001b[0m \u001b[32m━\u001b[0m\u001b[37m━━━━━━━━━━━━━━━━━━━\u001b[0m \u001b[1m1s\u001b[0m 959us/step - accuracy: 0.6908 - loss: 0.8513"
     ]
    }
   ],
   "source": [
    "# Compile the model\n",
    "model.compile(optimizer=Adam(learning_rate=0.001),\n",
    "              loss='categorical_crossentropy',\n",
    "              metrics=['accuracy'])\n",
    "\n",
    "# Train the model\n",
    "history = model.fit(X_train, y_train, epochs=500, batch_size=32, validation_split=0.5, verbose=1)\n",
    "\n",
    "# Evaluate the model\n",
    "test_loss, test_accuracy = model.evaluate(X_test, y_test, verbose=0)\n",
    "print(f\"Test accuracy: {test_accuracy:.4f}\")\n",
    "\n",
    "# Make predictions\n",
    "y_pred = model.predict(X_test)\n",
    "y_pred_classes = np.argmax(y_pred, axis=1)\n",
    "y_true_classes = np.argmax(y_test, axis=1)\n",
    "\n",
    "# Generate classification report\n",
    "print(classification_report(y_true_classes, y_pred_classes, target_names=le.classes_))"
   ]
  },
  {
   "cell_type": "code",
   "execution_count": null,
   "metadata": {},
   "outputs": [],
   "source": [
    "# Plot training history\n",
    "plt.figure(figsize=(12, 4))\n",
    "plt.subplot(1, 2, 1)\n",
    "plt.plot(history.history['accuracy'], label='Training Accuracy')\n",
    "plt.plot(history.history['val_accuracy'], label='Validation Accuracy')\n",
    "plt.title('Model Accuracy')\n",
    "plt.xlabel('Epoch')\n",
    "plt.ylabel('Accuracy')\n",
    "plt.legend()\n",
    "\n",
    "plt.subplot(1, 2, 2)\n",
    "plt.plot(history.history['loss'], label='Training Loss')\n",
    "plt.plot(history.history['val_loss'], label='Validation Loss')\n",
    "plt.title('Model Loss')\n",
    "plt.xlabel('Epoch')\n",
    "plt.ylabel('Loss')\n",
    "plt.legend()\n",
    "plt.tight_layout()\n",
    "plt.show()\n"
   ]
  },
  {
   "cell_type": "code",
   "execution_count": null,
   "metadata": {},
   "outputs": [],
   "source": [
    "\n",
    "# Plot confusion matrix\n",
    "cm = confusion_matrix(y_true_classes, y_pred_classes)\n",
    "plt.figure(figsize=(12, 10))\n",
    "sns.heatmap(cm, annot=True, fmt='d', cmap='Blues', xticklabels=le.classes_, yticklabels=le.classes_)\n",
    "plt.title('Confusion Matrix')\n",
    "plt.xlabel('Predicted')\n",
    "plt.ylabel('True')\n",
    "plt.tight_layout()\n",
    "plt.show()"
   ]
  },
  {
   "cell_type": "code",
   "execution_count": 26,
   "metadata": {},
   "outputs": [],
   "source": [
    "# Function to predict appliance and probabilities\n",
    "def predict_appliance(electrical_readings, hour, day_of_week, month):\n",
    "    # Combine electrical readings with time features\n",
    "    input_data = np.concatenate([electrical_readings, [hour, day_of_week, month]])\n",
    "    \n",
    "    # Ensure the input is a 2D array\n",
    "    input_data = input_data.reshape(1, -1)\n",
    "    \n",
    "    # Scale the input\n",
    "    scaled_input = scaler.transform(input_data)\n",
    "    \n",
    "    # Make prediction\n",
    "    probabilities = model.predict(scaled_input)[0]\n",
    "    predicted_class = le.inverse_transform([np.argmax(probabilities)])[0]\n",
    "    \n",
    "    return predicted_class, probabilities\n"
   ]
  },
  {
   "cell_type": "code",
   "execution_count": null,
   "metadata": {},
   "outputs": [],
   "source": [
    "# Example usage\n",
    "example_reading = np.array([50.0, 340, 111.284, -40.89, 0.533, 224.038])\n",
    "example_hour = 12\n",
    "example_day_of_week = 2  # 0 = Monday, 6 = Sunday\n",
    "example_month = 11\n",
    "\n",
    "predicted_appliance, probabilities = predict_appliance(example_reading, example_hour, example_day_of_week, example_month)\n",
    "\n",
    "print(f\"Predicted appliance: {predicted_appliance}\")\n",
    "print(\"Probabilities for each appliance:\")\n",
    "for appliance, prob in zip(le.classes_, probabilities):\n",
    "    print(f\"{appliance}: {prob:.4f}\")\n"
   ]
  },
  {
   "cell_type": "code",
   "execution_count": null,
   "metadata": {},
   "outputs": [],
   "source": [
    "# Plot probabilities\n",
    "plt.figure(figsize=(10, 6))\n",
    "sns.barplot(x=le.classes_, y=probabilities)\n",
    "plt.title('Appliance Prediction Probabilities')\n",
    "plt.xlabel('Appliance')\n",
    "plt.ylabel('Probability')\n",
    "plt.xticks(rotation=45, ha='right')\n",
    "plt.tight_layout()\n",
    "plt.show()\n"
   ]
  },
  {
   "cell_type": "code",
   "execution_count": 12,
   "metadata": {
    "vscode": {
     "languageId": "markdown"
    }
   },
   "outputs": [],
   "source": [
    "\n",
    "joblib.dump(scaler, 'scaler1.1.3.pkl')\n",
    "\n",
    "model.save('appliance_recogniser#1.1.3.keras')\n"
   ]
  }
 ],
 "metadata": {
  "kernelspec": {
   "display_name": "Python 3",
   "language": "python",
   "name": "python3"
  },
  "language_info": {
   "codemirror_mode": {
    "name": "ipython",
    "version": 3
   },
   "file_extension": ".py",
   "mimetype": "text/x-python",
   "name": "python",
   "nbconvert_exporter": "python",
   "pygments_lexer": "ipython3",
   "version": "3.12.6"
  }
 },
 "nbformat": 4,
 "nbformat_minor": 2
}
