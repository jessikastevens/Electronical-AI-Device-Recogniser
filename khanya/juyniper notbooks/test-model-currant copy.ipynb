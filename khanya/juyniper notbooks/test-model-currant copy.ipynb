{
 "cells": [
  {
   "cell_type": "code",
   "execution_count": 41,
   "metadata": {},
   "outputs": [],
   "source": [
    "# Import necessary libraries\n",
    "import pandas as pd\n",
    "import numpy as np\n",
    "import matplotlib.pyplot as plt\n",
    "import seaborn as sns\n",
    "from sklearn.model_selection import train_test_split\n",
    "from sklearn.preprocessing import StandardScaler, LabelEncoder\n",
    "from sklearn.metrics import classification_report, confusion_matrix\n",
    "\n"
   ]
  },
  {
   "cell_type": "code",
   "execution_count": 42,
   "metadata": {},
   "outputs": [],
   "source": [
    "# TensorFlow and Keras imports\n",
    "import tensorflow as tf\n",
    "from tensorflow.keras.models import Sequential\n",
    "from tensorflow.keras.layers import Dense, Dropout, BatchNormalization\n",
    "from tensorflow.keras.optimizers import Adam\n",
    "from tensorflow.keras.utils import to_categorical\n",
    "from tensorflow.keras.callbacks import EarlyStopping\n"
   ]
  },
  {
   "cell_type": "code",
   "execution_count": 43,
   "metadata": {},
   "outputs": [],
   "source": [
    "import pandas as pd\n",
    "import tensorflow as tf\n",
    "from sklearn.model_selection import train_test_split\n",
    "\n",
    "# Load the dataset\n",
    "file_path = r'C:/Users/honey/Documents/placment work/Electronical-AI-Device-Recogniser/Theo/CSV/acs-f2-datasetOG.csv'\n",
    "df = pd.read_csv(file_path)\n",
    "\n",
    "# Separating features and target (assuming 'equipment' is the target)\n",
    "X = df.drop(columns=['equipment', 'time'])  # Dropping time and target columns\n",
    "y = df['equipment']  # Assuming equipment is the label\n",
    "\n",
    "# Train-test split (80-20)\n",
    "X_train, X_test, y_train, y_test = train_test_split(X, y, test_size=0.2, random_state=42)\n",
    "\n",
    "# Convert to TensorFlow datasets\n",
    "train_dataset = tf.data.Dataset.from_tensor_slices((X_train.values, y_train.values))\n",
    "test_dataset = tf.data.Dataset.from_tensor_slices((X_test.values, y_test.values))\n",
    "\n",
    "# Shuffle and batch the datasets\n",
    "BATCH_SIZE = 32\n",
    "\n",
    "train_dataset = train_dataset.shuffle(len(X_train)).batch(BATCH_SIZE)\n",
    "test_dataset = test_dataset.batch(BATCH_SIZE)\n"
   ]
  },
  {
   "cell_type": "code",
   "execution_count": 44,
   "metadata": {},
   "outputs": [],
   "source": [
    "# Split features and labels\n",
    "X = df.drop(columns=['time', 'equipment'])\n",
    "y = df['equipment']\n"
   ]
  },
  {
   "cell_type": "code",
   "execution_count": null,
   "metadata": {},
   "outputs": [],
   "source": []
  },
  {
   "cell_type": "code",
   "execution_count": 45,
   "metadata": {},
   "outputs": [],
   "source": [
    "# Normalize the features\n",
    "scaler = StandardScaler()\n",
    "X_scaled = scaler.fit_transform(X)"
   ]
  },
  {
   "cell_type": "code",
   "execution_count": 46,
   "metadata": {},
   "outputs": [],
   "source": [
    "# # Convert labels to one-hot encoding\n",
    "# y_encoded = to_categorical(y)\n"
   ]
  },
  {
   "cell_type": "code",
   "execution_count": 47,
   "metadata": {},
   "outputs": [],
   "source": [
    "# Encode categorical labels into integers\n",
    "le = LabelEncoder()\n",
    "y_encoded_int = le.fit_transform(y)\n",
    "\n",
    "# Convert labels to one-hot encoding\n",
    "y_encoded = to_categorical(y_encoded_int)\n",
    "\n",
    "# Split the data into training and testing sets\n",
    "X_train, X_test, y_train, y_test = train_test_split(X_scaled, y_encoded, test_size=0.2, random_state=42)"
   ]
  },
  {
   "cell_type": "code",
   "execution_count": 48,
   "metadata": {},
   "outputs": [
    {
     "name": "stderr",
     "output_type": "stream",
     "text": [
      "c:\\Users\\honey\\AppData\\Local\\Programs\\Python\\Python312\\Lib\\site-packages\\keras\\src\\layers\\core\\dense.py:87: UserWarning: Do not pass an `input_shape`/`input_dim` argument to a layer. When using Sequential models, prefer using an `Input(shape)` object as the first layer in the model instead.\n",
      "  super().__init__(activity_regularizer=activity_regularizer, **kwargs)\n"
     ]
    }
   ],
   "source": [
    "# Define the model with architectural improvements\n",
    "#changes made:  Increased neurons in first layer# Batch normalization to stabilize learning,Higher dropout for regularization, More neurons for deeper architecture, Another batch normalization layer\n",
    "# Softmax for multi-class classification, A third hidden layer with 128 neurons\n",
    "model = Sequential([\n",
    "    Dense(256, activation='relu', input_shape=(X_train.shape[1],)),\n",
    "    BatchNormalization(),  \n",
    "    Dropout(0.3),  \n",
    "    Dense(256, activation='relu'),  \n",
    "    BatchNormalization(), \n",
    "    Dropout(0.3),  # Regularization\n",
    "    Dense(128, activation='relu'),  \n",
    "    Dense(y_encoded.shape[1], activation='softmax')  \n",
    "])\n",
    "\n",
    "# Learning rate scheduler for adaptive learning rate\n",
    "lr_schedule = tf.keras.optimizers.schedules.ExponentialDecay(\n",
    "    initial_learning_rate=1e-3,\n",
    "    decay_steps=10000,\n",
    "    decay_rate=0.9\n",
    ")"
   ]
  },
  {
   "cell_type": "code",
   "execution_count": 49,
   "metadata": {},
   "outputs": [],
   "source": [
    "# Compile the model with the learning rate schedule\n",
    "model.compile(optimizer=Adam(learning_rate=lr_schedule),\n",
    "              loss='categorical_crossentropy',\n",
    "              metrics=['accuracy'])"
   ]
  },
  {
   "cell_type": "code",
   "execution_count": 50,
   "metadata": {},
   "outputs": [
    {
     "name": "stdout",
     "output_type": "stream",
     "text": [
      "Epoch 1/1000\n",
      "\u001b[1m4028/4028\u001b[0m \u001b[32m━━━━━━━━━━━━━━━━━━━━\u001b[0m\u001b[37m\u001b[0m \u001b[1m8s\u001b[0m 2ms/step - accuracy: 0.4125 - loss: 1.7003 - val_accuracy: 0.6205 - val_loss: 1.0734\n",
      "Epoch 2/1000\n",
      "\u001b[1m4028/4028\u001b[0m \u001b[32m━━━━━━━━━━━━━━━━━━━━\u001b[0m\u001b[37m\u001b[0m \u001b[1m6s\u001b[0m 2ms/step - accuracy: 0.5772 - loss: 1.1674 - val_accuracy: 0.6739 - val_loss: 0.9226\n",
      "Epoch 3/1000\n",
      "\u001b[1m4028/4028\u001b[0m \u001b[32m━━━━━━━━━━━━━━━━━━━━\u001b[0m\u001b[37m\u001b[0m \u001b[1m6s\u001b[0m 2ms/step - accuracy: 0.6250 - loss: 1.0303 - val_accuracy: 0.6935 - val_loss: 0.8551\n",
      "Epoch 4/1000\n",
      "\u001b[1m4028/4028\u001b[0m \u001b[32m━━━━━━━━━━━━━━━━━━━━\u001b[0m\u001b[37m\u001b[0m \u001b[1m6s\u001b[0m 2ms/step - accuracy: 0.6457 - loss: 0.9697 - val_accuracy: 0.6922 - val_loss: 0.8468\n",
      "Epoch 5/1000\n",
      "\u001b[1m4028/4028\u001b[0m \u001b[32m━━━━━━━━━━━━━━━━━━━━\u001b[0m\u001b[37m\u001b[0m \u001b[1m6s\u001b[0m 2ms/step - accuracy: 0.6636 - loss: 0.9260 - val_accuracy: 0.7065 - val_loss: 0.8133\n",
      "Epoch 6/1000\n",
      "\u001b[1m4028/4028\u001b[0m \u001b[32m━━━━━━━━━━━━━━━━━━━━\u001b[0m\u001b[37m\u001b[0m \u001b[1m6s\u001b[0m 2ms/step - accuracy: 0.6754 - loss: 0.8943 - val_accuracy: 0.7280 - val_loss: 0.7701\n",
      "Epoch 7/1000\n",
      "\u001b[1m4028/4028\u001b[0m \u001b[32m━━━━━━━━━━━━━━━━━━━━\u001b[0m\u001b[37m\u001b[0m \u001b[1m6s\u001b[0m 2ms/step - accuracy: 0.6780 - loss: 0.8845 - val_accuracy: 0.7334 - val_loss: 0.7449\n",
      "Epoch 8/1000\n",
      "\u001b[1m4028/4028\u001b[0m \u001b[32m━━━━━━━━━━━━━━━━━━━━\u001b[0m\u001b[37m\u001b[0m \u001b[1m6s\u001b[0m 2ms/step - accuracy: 0.6884 - loss: 0.8536 - val_accuracy: 0.7287 - val_loss: 0.7478\n",
      "Epoch 9/1000\n",
      "\u001b[1m4028/4028\u001b[0m \u001b[32m━━━━━━━━━━━━━━━━━━━━\u001b[0m\u001b[37m\u001b[0m \u001b[1m6s\u001b[0m 2ms/step - accuracy: 0.6936 - loss: 0.8444 - val_accuracy: 0.7279 - val_loss: 0.7457\n",
      "Epoch 10/1000\n",
      "\u001b[1m4028/4028\u001b[0m \u001b[32m━━━━━━━━━━━━━━━━━━━━\u001b[0m\u001b[37m\u001b[0m \u001b[1m7s\u001b[0m 2ms/step - accuracy: 0.6964 - loss: 0.8338 - val_accuracy: 0.7371 - val_loss: 0.7232\n",
      "Epoch 11/1000\n",
      "\u001b[1m4028/4028\u001b[0m \u001b[32m━━━━━━━━━━━━━━━━━━━━\u001b[0m\u001b[37m\u001b[0m \u001b[1m6s\u001b[0m 2ms/step - accuracy: 0.7004 - loss: 0.8172 - val_accuracy: 0.7424 - val_loss: 0.7186\n",
      "Epoch 12/1000\n",
      "\u001b[1m4028/4028\u001b[0m \u001b[32m━━━━━━━━━━━━━━━━━━━━\u001b[0m\u001b[37m\u001b[0m \u001b[1m6s\u001b[0m 2ms/step - accuracy: 0.7049 - loss: 0.8093 - val_accuracy: 0.7421 - val_loss: 0.7083\n",
      "Epoch 13/1000\n",
      "\u001b[1m4028/4028\u001b[0m \u001b[32m━━━━━━━━━━━━━━━━━━━━\u001b[0m\u001b[37m\u001b[0m \u001b[1m6s\u001b[0m 2ms/step - accuracy: 0.7072 - loss: 0.8027 - val_accuracy: 0.7501 - val_loss: 0.7013\n",
      "Epoch 14/1000\n",
      "\u001b[1m4028/4028\u001b[0m \u001b[32m━━━━━━━━━━━━━━━━━━━━\u001b[0m\u001b[37m\u001b[0m \u001b[1m6s\u001b[0m 2ms/step - accuracy: 0.7117 - loss: 0.7906 - val_accuracy: 0.7347 - val_loss: 0.7251\n",
      "Epoch 15/1000\n",
      "\u001b[1m4028/4028\u001b[0m \u001b[32m━━━━━━━━━━━━━━━━━━━━\u001b[0m\u001b[37m\u001b[0m \u001b[1m6s\u001b[0m 2ms/step - accuracy: 0.7145 - loss: 0.7858 - val_accuracy: 0.7506 - val_loss: 0.6964\n",
      "Epoch 16/1000\n",
      "\u001b[1m4028/4028\u001b[0m \u001b[32m━━━━━━━━━━━━━━━━━━━━\u001b[0m\u001b[37m\u001b[0m \u001b[1m6s\u001b[0m 2ms/step - accuracy: 0.7172 - loss: 0.7786 - val_accuracy: 0.7474 - val_loss: 0.7092\n",
      "Epoch 17/1000\n",
      "\u001b[1m4028/4028\u001b[0m \u001b[32m━━━━━━━━━━━━━━━━━━━━\u001b[0m\u001b[37m\u001b[0m \u001b[1m6s\u001b[0m 2ms/step - accuracy: 0.7208 - loss: 0.7700 - val_accuracy: 0.7570 - val_loss: 0.6854\n",
      "Epoch 18/1000\n",
      "\u001b[1m4028/4028\u001b[0m \u001b[32m━━━━━━━━━━━━━━━━━━━━\u001b[0m\u001b[37m\u001b[0m \u001b[1m6s\u001b[0m 2ms/step - accuracy: 0.7243 - loss: 0.7602 - val_accuracy: 0.7532 - val_loss: 0.6911\n",
      "Epoch 19/1000\n",
      "\u001b[1m4028/4028\u001b[0m \u001b[32m━━━━━━━━━━━━━━━━━━━━\u001b[0m\u001b[37m\u001b[0m \u001b[1m6s\u001b[0m 2ms/step - accuracy: 0.7260 - loss: 0.7536 - val_accuracy: 0.7581 - val_loss: 0.6855\n",
      "Epoch 20/1000\n",
      "\u001b[1m4028/4028\u001b[0m \u001b[32m━━━━━━━━━━━━━━━━━━━━\u001b[0m\u001b[37m\u001b[0m \u001b[1m7s\u001b[0m 2ms/step - accuracy: 0.7274 - loss: 0.7502 - val_accuracy: 0.7552 - val_loss: 0.6802\n",
      "Epoch 21/1000\n",
      "\u001b[1m4028/4028\u001b[0m \u001b[32m━━━━━━━━━━━━━━━━━━━━\u001b[0m\u001b[37m\u001b[0m \u001b[1m6s\u001b[0m 2ms/step - accuracy: 0.7291 - loss: 0.7425 - val_accuracy: 0.7592 - val_loss: 0.6717\n",
      "Epoch 22/1000\n",
      "\u001b[1m4028/4028\u001b[0m \u001b[32m━━━━━━━━━━━━━━━━━━━━\u001b[0m\u001b[37m\u001b[0m \u001b[1m6s\u001b[0m 2ms/step - accuracy: 0.7315 - loss: 0.7403 - val_accuracy: 0.7573 - val_loss: 0.6819\n",
      "Epoch 23/1000\n",
      "\u001b[1m4028/4028\u001b[0m \u001b[32m━━━━━━━━━━━━━━━━━━━━\u001b[0m\u001b[37m\u001b[0m \u001b[1m6s\u001b[0m 2ms/step - accuracy: 0.7327 - loss: 0.7330 - val_accuracy: 0.7550 - val_loss: 0.6947\n",
      "Epoch 24/1000\n",
      "\u001b[1m4028/4028\u001b[0m \u001b[32m━━━━━━━━━━━━━━━━━━━━\u001b[0m\u001b[37m\u001b[0m \u001b[1m7s\u001b[0m 2ms/step - accuracy: 0.7333 - loss: 0.7334 - val_accuracy: 0.7577 - val_loss: 0.6709\n",
      "Epoch 25/1000\n",
      "\u001b[1m4028/4028\u001b[0m \u001b[32m━━━━━━━━━━━━━━━━━━━━\u001b[0m\u001b[37m\u001b[0m \u001b[1m6s\u001b[0m 2ms/step - accuracy: 0.7346 - loss: 0.7293 - val_accuracy: 0.7605 - val_loss: 0.6702\n",
      "Epoch 26/1000\n",
      "\u001b[1m4028/4028\u001b[0m \u001b[32m━━━━━━━━━━━━━━━━━━━━\u001b[0m\u001b[37m\u001b[0m \u001b[1m6s\u001b[0m 2ms/step - accuracy: 0.7360 - loss: 0.7264 - val_accuracy: 0.7625 - val_loss: 0.6659\n",
      "Epoch 27/1000\n",
      "\u001b[1m4028/4028\u001b[0m \u001b[32m━━━━━━━━━━━━━━━━━━━━\u001b[0m\u001b[37m\u001b[0m \u001b[1m6s\u001b[0m 2ms/step - accuracy: 0.7392 - loss: 0.7176 - val_accuracy: 0.7616 - val_loss: 0.6719\n",
      "Epoch 28/1000\n",
      "\u001b[1m4028/4028\u001b[0m \u001b[32m━━━━━━━━━━━━━━━━━━━━\u001b[0m\u001b[37m\u001b[0m \u001b[1m6s\u001b[0m 2ms/step - accuracy: 0.7391 - loss: 0.7162 - val_accuracy: 0.7598 - val_loss: 0.6638\n",
      "Epoch 29/1000\n",
      "\u001b[1m4028/4028\u001b[0m \u001b[32m━━━━━━━━━━━━━━━━━━━━\u001b[0m\u001b[37m\u001b[0m \u001b[1m6s\u001b[0m 2ms/step - accuracy: 0.7388 - loss: 0.7152 - val_accuracy: 0.7627 - val_loss: 0.6623\n",
      "Epoch 30/1000\n",
      "\u001b[1m4028/4028\u001b[0m \u001b[32m━━━━━━━━━━━━━━━━━━━━\u001b[0m\u001b[37m\u001b[0m \u001b[1m7s\u001b[0m 2ms/step - accuracy: 0.7417 - loss: 0.7118 - val_accuracy: 0.7650 - val_loss: 0.6719\n",
      "Epoch 31/1000\n",
      "\u001b[1m4028/4028\u001b[0m \u001b[32m━━━━━━━━━━━━━━━━━━━━\u001b[0m\u001b[37m\u001b[0m \u001b[1m6s\u001b[0m 2ms/step - accuracy: 0.7423 - loss: 0.7068 - val_accuracy: 0.7689 - val_loss: 0.6482\n",
      "Epoch 32/1000\n",
      "\u001b[1m4028/4028\u001b[0m \u001b[32m━━━━━━━━━━━━━━━━━━━━\u001b[0m\u001b[37m\u001b[0m \u001b[1m6s\u001b[0m 2ms/step - accuracy: 0.7436 - loss: 0.7029 - val_accuracy: 0.7653 - val_loss: 0.6603\n",
      "Epoch 33/1000\n",
      "\u001b[1m4028/4028\u001b[0m \u001b[32m━━━━━━━━━━━━━━━━━━━━\u001b[0m\u001b[37m\u001b[0m \u001b[1m6s\u001b[0m 2ms/step - accuracy: 0.7437 - loss: 0.7023 - val_accuracy: 0.7637 - val_loss: 0.6573\n",
      "Epoch 34/1000\n",
      "\u001b[1m4028/4028\u001b[0m \u001b[32m━━━━━━━━━━━━━━━━━━━━\u001b[0m\u001b[37m\u001b[0m \u001b[1m6s\u001b[0m 2ms/step - accuracy: 0.7439 - loss: 0.7011 - val_accuracy: 0.7647 - val_loss: 0.6577\n",
      "Epoch 35/1000\n",
      "\u001b[1m4028/4028\u001b[0m \u001b[32m━━━━━━━━━━━━━━━━━━━━\u001b[0m\u001b[37m\u001b[0m \u001b[1m6s\u001b[0m 2ms/step - accuracy: 0.7482 - loss: 0.7001 - val_accuracy: 0.7725 - val_loss: 0.6376\n",
      "Epoch 36/1000\n",
      "\u001b[1m4028/4028\u001b[0m \u001b[32m━━━━━━━━━━━━━━━━━━━━\u001b[0m\u001b[37m\u001b[0m \u001b[1m6s\u001b[0m 2ms/step - accuracy: 0.7461 - loss: 0.6971 - val_accuracy: 0.7626 - val_loss: 0.6639\n",
      "Epoch 37/1000\n",
      "\u001b[1m4028/4028\u001b[0m \u001b[32m━━━━━━━━━━━━━━━━━━━━\u001b[0m\u001b[37m\u001b[0m \u001b[1m7s\u001b[0m 2ms/step - accuracy: 0.7470 - loss: 0.6940 - val_accuracy: 0.7718 - val_loss: 0.6406\n",
      "Epoch 38/1000\n",
      "\u001b[1m4028/4028\u001b[0m \u001b[32m━━━━━━━━━━━━━━━━━━━━\u001b[0m\u001b[37m\u001b[0m \u001b[1m7s\u001b[0m 2ms/step - accuracy: 0.7491 - loss: 0.6874 - val_accuracy: 0.7713 - val_loss: 0.6390\n",
      "Epoch 39/1000\n",
      "\u001b[1m4028/4028\u001b[0m \u001b[32m━━━━━━━━━━━━━━━━━━━━\u001b[0m\u001b[37m\u001b[0m \u001b[1m6s\u001b[0m 2ms/step - accuracy: 0.7486 - loss: 0.6925 - val_accuracy: 0.7733 - val_loss: 0.6349\n",
      "Epoch 40/1000\n",
      "\u001b[1m4028/4028\u001b[0m \u001b[32m━━━━━━━━━━━━━━━━━━━━\u001b[0m\u001b[37m\u001b[0m \u001b[1m6s\u001b[0m 2ms/step - accuracy: 0.7515 - loss: 0.6854 - val_accuracy: 0.7761 - val_loss: 0.6305\n",
      "Epoch 41/1000\n",
      "\u001b[1m4028/4028\u001b[0m \u001b[32m━━━━━━━━━━━━━━━━━━━━\u001b[0m\u001b[37m\u001b[0m \u001b[1m6s\u001b[0m 2ms/step - accuracy: 0.7521 - loss: 0.6873 - val_accuracy: 0.7757 - val_loss: 0.6366\n",
      "Epoch 42/1000\n",
      "\u001b[1m4028/4028\u001b[0m \u001b[32m━━━━━━━━━━━━━━━━━━━━\u001b[0m\u001b[37m\u001b[0m \u001b[1m6s\u001b[0m 2ms/step - accuracy: 0.7515 - loss: 0.6842 - val_accuracy: 0.7706 - val_loss: 0.6490\n",
      "Epoch 43/1000\n",
      "\u001b[1m4028/4028\u001b[0m \u001b[32m━━━━━━━━━━━━━━━━━━━━\u001b[0m\u001b[37m\u001b[0m \u001b[1m7s\u001b[0m 2ms/step - accuracy: 0.7515 - loss: 0.6801 - val_accuracy: 0.7726 - val_loss: 0.6326\n",
      "Epoch 44/1000\n",
      "\u001b[1m4028/4028\u001b[0m \u001b[32m━━━━━━━━━━━━━━━━━━━━\u001b[0m\u001b[37m\u001b[0m \u001b[1m6s\u001b[0m 2ms/step - accuracy: 0.7523 - loss: 0.6823 - val_accuracy: 0.7753 - val_loss: 0.6324\n",
      "Epoch 45/1000\n",
      "\u001b[1m4028/4028\u001b[0m \u001b[32m━━━━━━━━━━━━━━━━━━━━\u001b[0m\u001b[37m\u001b[0m \u001b[1m6s\u001b[0m 2ms/step - accuracy: 0.7524 - loss: 0.6766 - val_accuracy: 0.7710 - val_loss: 0.6388\n",
      "Epoch 46/1000\n",
      "\u001b[1m4028/4028\u001b[0m \u001b[32m━━━━━━━━━━━━━━━━━━━━\u001b[0m\u001b[37m\u001b[0m \u001b[1m7s\u001b[0m 2ms/step - accuracy: 0.7531 - loss: 0.6782 - val_accuracy: 0.7786 - val_loss: 0.6291\n",
      "Epoch 47/1000\n",
      "\u001b[1m4028/4028\u001b[0m \u001b[32m━━━━━━━━━━━━━━━━━━━━\u001b[0m\u001b[37m\u001b[0m \u001b[1m6s\u001b[0m 2ms/step - accuracy: 0.7537 - loss: 0.6735 - val_accuracy: 0.7769 - val_loss: 0.6300\n",
      "Epoch 48/1000\n",
      "\u001b[1m4028/4028\u001b[0m \u001b[32m━━━━━━━━━━━━━━━━━━━━\u001b[0m\u001b[37m\u001b[0m \u001b[1m6s\u001b[0m 2ms/step - accuracy: 0.7550 - loss: 0.6714 - val_accuracy: 0.7763 - val_loss: 0.6233\n",
      "Epoch 49/1000\n",
      "\u001b[1m3992/4028\u001b[0m \u001b[32m━━━━━━━━━━━━━━━━━━━\u001b[0m\u001b[37m━\u001b[0m \u001b[1m0s\u001b[0m 1ms/step - accuracy: 0.7557 - loss: 0.6685"
     ]
    }
   ],
   "source": [
    "# Early stopping callback to avoid overfitting\n",
    "early_stopping = EarlyStopping(monitor='val_loss', patience=10, restore_best_weights=True)\n",
    "\n",
    "# Train the model with early stopping\n",
    "history = model.fit(X_train, y_train, validation_data=(X_test, y_test), \n",
    "                    epochs=1000, callbacks=[early_stopping])\n"
   ]
  },
  {
   "cell_type": "code",
   "execution_count": null,
   "metadata": {},
   "outputs": [],
   "source": [
    "# Evaluate the model\n",
    "test_loss, test_accuracy = model.evaluate(X_test, y_test, verbose=0)\n",
    "print(f\"Test accuracy: {test_accuracy:.4f}\")\n",
    "print(f\"Test loss: {test_loss:.4f}\")"
   ]
  },
  {
   "cell_type": "code",
   "execution_count": null,
   "metadata": {},
   "outputs": [],
   "source": [
    "# Evaluate the model performance\n",
    "test_loss, test_acc = model.evaluate(X_test, y_test, verbose=2)\n",
    "print(f\"Test accuracy: {test_acc}\")"
   ]
  },
  {
   "cell_type": "code",
   "execution_count": null,
   "metadata": {},
   "outputs": [],
   "source": [
    "# Generate a classification report\n",
    "y_pred = np.argmax(model.predict(X_test), axis=-1)\n",
    "y_true = np.argmax(y_test, axis=-1)\n",
    "print(classification_report(y_true, y_pred))"
   ]
  },
  {
   "cell_type": "code",
   "execution_count": null,
   "metadata": {},
   "outputs": [],
   "source": [
    "# Make predictions\n",
    "y_pred = model.predict(X_test)\n",
    "y_pred_classes = np.argmax(y_pred, axis=1)\n",
    "y_true_classes = np.argmax(y_test, axis=1)"
   ]
  },
  {
   "cell_type": "code",
   "execution_count": null,
   "metadata": {},
   "outputs": [],
   "source": [
    "# Plot training history\n",
    "plt.figure(figsize=(12, 4))\n",
    "plt.subplot(1, 2, 1)\n",
    "plt.plot(history.history['accuracy'], label='Training Accuracy')\n",
    "plt.plot(history.history['val_accuracy'], label='Validation Accuracy')\n",
    "plt.title('Model Accuracy')\n",
    "plt.xlabel('Epoch')\n",
    "plt.ylabel('Accuracy')\n",
    "plt.legend()\n",
    "\n",
    "plt.subplot(1, 2, 2)\n",
    "plt.plot(history.history['loss'], label='Training Loss')\n",
    "plt.plot(history.history['val_loss'], label='Validation Loss')\n",
    "plt.title('Model Loss')\n",
    "plt.xlabel('Epoch')\n",
    "plt.ylabel('Loss')\n",
    "plt.legend()\n",
    "plt.tight_layout()\n",
    "plt.show()"
   ]
  },
  {
   "cell_type": "code",
   "execution_count": null,
   "metadata": {},
   "outputs": [],
   "source": [
    "# Plot confusion matrix\n",
    "cm = confusion_matrix(y_true_classes, y_pred_classes)\n",
    "plt.figure(figsize=(12, 10))\n",
    "sns.heatmap(cm, annot=True, fmt='d', cmap='Blues', xticklabels=le.classes_, yticklabels=le.classes_)\n",
    "plt.title('Confusion Matrix')\n",
    "plt.xlabel('Predicted')\n",
    "plt.ylabel('True')\n",
    "plt.tight_layout()\n",
    "plt.show()"
   ]
  },
  {
   "cell_type": "code",
   "execution_count": 37,
   "metadata": {},
   "outputs": [],
   "source": [
    "# Function to predict appliance and probabilities\n",
    "def predict_appliance(electrical_readings):\n",
    "    # Ensure the input is a 2D array\n",
    "    if electrical_readings.ndim == 1:\n",
    "        electrical_readings = electrical_readings.reshape(1, -1)\n",
    "    \n",
    "    # Scale the input\n",
    "    scaled_input = scaler.transform(electrical_readings)\n",
    "    \n",
    "    # Make prediction\n",
    "    probabilities = model.predict(scaled_input)[0]\n",
    "    predicted_class = le.inverse_transform([np.argmax(probabilities)])[0]\n",
    "    \n",
    "    return predicted_class, probabilities"
   ]
  },
  {
   "cell_type": "code",
   "execution_count": null,
   "metadata": {},
   "outputs": [],
   "source": [
    "# Example usage\n",
    "example_reading = np.array([50.0, 340, 111.284, -40.89, 0.533, 224.038])\n",
    "predicted_appliance, probabilities = predict_appliance(example_reading)\n",
    "\n",
    "print(f\"Predicted appliance: {predicted_appliance}\")\n",
    "print(\"Probabilities for each appliance:\")\n",
    "for appliance, prob in zip(le.classes_, probabilities):\n",
    "    print(f\"{appliance}: {prob:.4f}\")\n"
   ]
  },
  {
   "cell_type": "code",
   "execution_count": null,
   "metadata": {},
   "outputs": [],
   "source": [
    "\n",
    "# Plot probabilities\n",
    "plt.figure(figsize=(10, 6))\n",
    "sns.barplot(x=le.classes_, y=probabilities)\n",
    "plt.title('Appliance Prediction Probabilities')\n",
    "plt.xlabel('Appliance')\n",
    "plt.ylabel('Probability')\n",
    "plt.xticks(rotation=45, ha='right')\n",
    "plt.tight_layout()\n",
    "plt.show()"
   ]
  },
  {
   "cell_type": "code",
   "execution_count": 40,
   "metadata": {},
   "outputs": [],
   "source": [
    "import joblib\n",
    "joblib.dump(scaler, 'scaler1.0.9.pkl')\n",
    "\n",
    "model.save('appliance_recogniser#1.0.9.keras')"
   ]
  }
 ],
 "metadata": {
  "kernelspec": {
   "display_name": "Python 3",
   "language": "python",
   "name": "python3"
  },
  "language_info": {
   "codemirror_mode": {
    "name": "ipython",
    "version": 3
   },
   "file_extension": ".py",
   "mimetype": "text/x-python",
   "name": "python",
   "nbconvert_exporter": "python",
   "pygments_lexer": "ipython3",
   "version": "3.12.6"
  }
 },
 "nbformat": 4,
 "nbformat_minor": 2
}
